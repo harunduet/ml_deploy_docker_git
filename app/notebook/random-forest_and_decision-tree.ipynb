{
 "cells": [
  {
   "cell_type": "code",
   "execution_count": 22,
   "id": "e4a066dc",
   "metadata": {},
   "outputs": [],
   "source": [
    "import pandas as pd\n",
    "from sklearn import tree\n",
    "from sklearn.tree import DecisionTreeClassifier\n",
    "import matplotlib.pyplot as plt\n",
    "import matplotlib.image as pltimg\n",
    "from sklearn.metrics import classification_report\n",
    "from sklearn.model_selection import train_test_split\n",
    "from sklearn.preprocessing import StandardScaler\n",
    "import joblib"
   ]
  },
  {
   "cell_type": "code",
   "execution_count": 23,
   "id": "047ab9be",
   "metadata": {},
   "outputs": [
    {
     "data": {
      "text/html": [
       "<div>\n",
       "<style scoped>\n",
       "    .dataframe tbody tr th:only-of-type {\n",
       "        vertical-align: middle;\n",
       "    }\n",
       "\n",
       "    .dataframe tbody tr th {\n",
       "        vertical-align: top;\n",
       "    }\n",
       "\n",
       "    .dataframe thead th {\n",
       "        text-align: right;\n",
       "    }\n",
       "</style>\n",
       "<table border=\"1\" class=\"dataframe\">\n",
       "  <thead>\n",
       "    <tr style=\"text-align: right;\">\n",
       "      <th></th>\n",
       "      <th>Age</th>\n",
       "      <th>Sex</th>\n",
       "      <th>BP</th>\n",
       "      <th>Cholesterol</th>\n",
       "      <th>Na_to_K</th>\n",
       "      <th>Drug</th>\n",
       "    </tr>\n",
       "  </thead>\n",
       "  <tbody>\n",
       "    <tr>\n",
       "      <th>0</th>\n",
       "      <td>23</td>\n",
       "      <td>F</td>\n",
       "      <td>HIGH</td>\n",
       "      <td>HIGH</td>\n",
       "      <td>25.355</td>\n",
       "      <td>DrugY</td>\n",
       "    </tr>\n",
       "    <tr>\n",
       "      <th>1</th>\n",
       "      <td>47</td>\n",
       "      <td>M</td>\n",
       "      <td>LOW</td>\n",
       "      <td>HIGH</td>\n",
       "      <td>13.093</td>\n",
       "      <td>drugC</td>\n",
       "    </tr>\n",
       "    <tr>\n",
       "      <th>2</th>\n",
       "      <td>47</td>\n",
       "      <td>M</td>\n",
       "      <td>LOW</td>\n",
       "      <td>HIGH</td>\n",
       "      <td>10.114</td>\n",
       "      <td>drugC</td>\n",
       "    </tr>\n",
       "    <tr>\n",
       "      <th>3</th>\n",
       "      <td>28</td>\n",
       "      <td>F</td>\n",
       "      <td>NORMAL</td>\n",
       "      <td>HIGH</td>\n",
       "      <td>7.798</td>\n",
       "      <td>drugX</td>\n",
       "    </tr>\n",
       "    <tr>\n",
       "      <th>4</th>\n",
       "      <td>61</td>\n",
       "      <td>F</td>\n",
       "      <td>LOW</td>\n",
       "      <td>HIGH</td>\n",
       "      <td>18.043</td>\n",
       "      <td>DrugY</td>\n",
       "    </tr>\n",
       "  </tbody>\n",
       "</table>\n",
       "</div>"
      ],
      "text/plain": [
       "   Age Sex      BP Cholesterol  Na_to_K   Drug\n",
       "0   23   F    HIGH        HIGH   25.355  DrugY\n",
       "1   47   M     LOW        HIGH   13.093  drugC\n",
       "2   47   M     LOW        HIGH   10.114  drugC\n",
       "3   28   F  NORMAL        HIGH    7.798  drugX\n",
       "4   61   F     LOW        HIGH   18.043  DrugY"
      ]
     },
     "execution_count": 23,
     "metadata": {},
     "output_type": "execute_result"
    }
   ],
   "source": [
    "df=pd.read_csv(\"data/drug200.csv\")\n",
    "df.head()"
   ]
  },
  {
   "cell_type": "code",
   "execution_count": 24,
   "id": "a3907969",
   "metadata": {},
   "outputs": [
    {
     "name": "stdout",
     "output_type": "stream",
     "text": [
      "   Age  Sex  BP  Cholesterol  Na_to_K   Drug\n",
      "0   23    0   0            0   25.355  DrugY\n",
      "1   47    1   1            0   13.093  drugC\n",
      "2   47    1   1            0   10.114  drugC\n",
      "3   28    0   2            0    7.798  drugX\n",
      "4   61    0   1            0   18.043  DrugY\n"
     ]
    }
   ],
   "source": [
    "#Change string values into numerical values:\n",
    "d = {'M': 1, 'F': 0}\n",
    "df['Sex'] = df['Sex'].map(d)\n",
    "\n",
    "d = {'HIGH': 0, 'LOW': 1, 'NORMAL': 2}\n",
    "df['BP'] = df['BP'].map(d)\n",
    "\n",
    "d = {'HIGH': 0, 'LOW': 1, 'NORMAL': 2}\n",
    "df['Cholesterol'] = df['Cholesterol'].map(d)\n",
    "print(df.head())"
   ]
  },
  {
   "cell_type": "code",
   "execution_count": 25,
   "id": "857581fe",
   "metadata": {},
   "outputs": [],
   "source": [
    "#independent variables\n",
    "features = ['Age', 'Sex', 'BP', 'Cholesterol', 'Na_to_K']\n",
    "X = df[features]\n",
    "\n",
    "#dependent variable\n",
    "y = df['Drug']"
   ]
  },
  {
   "cell_type": "code",
   "execution_count": 26,
   "id": "a850ca9e",
   "metadata": {},
   "outputs": [],
   "source": [
    "dtree = DecisionTreeClassifier()\n",
    "dtree = dtree.fit(X.values, y)"
   ]
  },
  {
   "cell_type": "code",
   "execution_count": 27,
   "id": "e3777963",
   "metadata": {},
   "outputs": [
    {
     "name": "stdout",
     "output_type": "stream",
     "text": [
      "DrugY    91\n",
      "drugX    54\n",
      "drugA    23\n",
      "drugC    16\n",
      "drugB    16\n",
      "Name: Drug, dtype: int64\n"
     ]
    }
   ],
   "source": [
    "print(df['Drug'].value_counts())"
   ]
  },
  {
   "cell_type": "code",
   "execution_count": 28,
   "id": "364d03e8",
   "metadata": {},
   "outputs": [
    {
     "name": "stdout",
     "output_type": "stream",
     "text": [
      "['DrugY']\n"
     ]
    }
   ],
   "source": [
    "print(dtree.predict([[68, 0, 2, 2, 27.10]]))\n",
    "# ['drugY'] will be the output"
   ]
  },
  {
   "cell_type": "code",
   "execution_count": 29,
   "id": "8d002985",
   "metadata": {},
   "outputs": [
    {
     "data": {
      "text/plain": [
       "['Model.joblib']"
      ]
     },
     "execution_count": 29,
     "metadata": {},
     "output_type": "execute_result"
    }
   ],
   "source": [
    "# Save the model\n",
    "from joblib import load\n",
    "joblib_file = \"Model.joblib\"\n",
    "joblib.dump(dtree, joblib_file) "
   ]
  },
  {
   "cell_type": "code",
   "execution_count": 30,
   "id": "b4d38f92",
   "metadata": {},
   "outputs": [],
   "source": [
    "from joblib import load\n",
    "clf = load('Model.joblib')\n",
    "#clf = load('models/model_v1.joblib')"
   ]
  },
  {
   "cell_type": "code",
   "execution_count": 31,
   "id": "c873b45a",
   "metadata": {},
   "outputs": [
    {
     "name": "stdout",
     "output_type": "stream",
     "text": [
      "['drugC']\n"
     ]
    }
   ],
   "source": [
    "print(clf.predict([[10, 1, 1, 1, 05.10]]))\n",
    "# ['drugC'] will be the output"
   ]
  },
  {
   "cell_type": "code",
   "execution_count": 41,
   "id": "e6bf535c",
   "metadata": {},
   "outputs": [
    {
     "name": "stdout",
     "output_type": "stream",
     "text": [
      "['DrugY']\n"
     ]
    }
   ],
   "source": [
    "print(clf.predict([[68, 0, 2, 2, 27.10]]))\n",
    "# ['drugY'] will be the output"
   ]
  },
  {
   "cell_type": "code",
   "execution_count": 42,
   "id": "4a18ee3d",
   "metadata": {},
   "outputs": [],
   "source": [
    "from sklearn.ensemble import RandomForestClassifier"
   ]
  },
  {
   "cell_type": "code",
   "execution_count": 43,
   "id": "2109580f",
   "metadata": {},
   "outputs": [],
   "source": [
    "rfc = RandomForestClassifier()\n",
    "rfc = rfc.fit(X.values, y)"
   ]
  },
  {
   "cell_type": "code",
   "execution_count": 48,
   "id": "24172f17",
   "metadata": {},
   "outputs": [
    {
     "data": {
      "text/plain": [
       "['model2.joblib']"
      ]
     },
     "execution_count": 48,
     "metadata": {},
     "output_type": "execute_result"
    }
   ],
   "source": [
    "# Save the model\n",
    "joblib_file2 = \"model2.joblib\"\n",
    "joblib.dump(rfc, joblib_file2) "
   ]
  },
  {
   "cell_type": "code",
   "execution_count": 49,
   "id": "b7acf878",
   "metadata": {},
   "outputs": [],
   "source": [
    "clf2 = load('model2.joblib')"
   ]
  },
  {
   "cell_type": "code",
   "execution_count": 50,
   "id": "01eed16a",
   "metadata": {},
   "outputs": [
    {
     "name": "stdout",
     "output_type": "stream",
     "text": [
      "['DrugY']\n"
     ]
    }
   ],
   "source": [
    "print(clf2.predict([[68, 0, 2, 2, 27.10]]))\n",
    "# ['drugY'] will be the output"
   ]
  },
  {
   "cell_type": "code",
   "execution_count": 51,
   "id": "677439cf",
   "metadata": {},
   "outputs": [
    {
     "name": "stdout",
     "output_type": "stream",
     "text": [
      "['drugX']\n"
     ]
    }
   ],
   "source": [
    "print(clf2.predict([[28, 0, 2, 0, 7.798]]))\n",
    "# ['drugX'] will be the output"
   ]
  },
  {
   "cell_type": "code",
   "execution_count": null,
   "id": "bd2deda7",
   "metadata": {},
   "outputs": [],
   "source": []
  },
  {
   "cell_type": "code",
   "execution_count": null,
   "id": "bcb57092",
   "metadata": {},
   "outputs": [],
   "source": []
  }
 ],
 "metadata": {
  "kernelspec": {
   "display_name": "Python 3",
   "language": "python",
   "name": "python3"
  },
  "language_info": {
   "codemirror_mode": {
    "name": "ipython",
    "version": 3
   },
   "file_extension": ".py",
   "mimetype": "text/x-python",
   "name": "python",
   "nbconvert_exporter": "python",
   "pygments_lexer": "ipython3",
   "version": "3.8.8"
  }
 },
 "nbformat": 4,
 "nbformat_minor": 5
}
